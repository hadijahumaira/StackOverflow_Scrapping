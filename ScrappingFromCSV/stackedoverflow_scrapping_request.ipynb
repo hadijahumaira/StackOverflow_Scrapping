{
 "cells": [
  {
   "cell_type": "code",
   "execution_count": 24,
   "metadata": {},
   "outputs": [],
   "source": [
    "import requests\n",
    "from bs4 import BeautifulSoup\n",
    "import pandas as pd\n",
    "\n",
    "def clean_text(text):\n",
    "    return ' '.join(text.split())  # Hapus newline dan gabungkan teks menjadi satu baris\n",
    "\n",
    "# Baca file CSV yang berisi link pertanyaan\n",
    "file_path = 'HasilCrawl.csv'\n",
    "df_links = pd.read_csv(file_path)\n",
    "\n",
    "# List untuk menyimpan data detail pertanyaan\n",
    "questions_data = []\n",
    "for index, row in df_links.iterrows():\n",
    "    link = row['Link_question']\n",
    "    response = requests.get(link)\n",
    "\n",
    "    # Periksa apakah respons berhasil\n",
    "    if response.status_code == 200:\n",
    "        # Parse konten HTML dengan BeautifulSoup\n",
    "        soup = BeautifulSoup(response.text, 'html.parser')\n",
    "\n",
    "        title = clean_text(soup.find('a', class_=\"question-hyperlink\").text)  # Judul pertanyaan\n",
    "        question_text = clean_text(soup.find('div', class_=\"s-prose js-post-body\").text)  # Isi teks pertanyaan\n",
    "        votes = clean_text(soup.find('div', class_=\"js-vote-count\").text)  # Jumlah vote\n",
    "        tags = [clean_text(tag.text) for tag in soup.find_all('a', class_=\"post-tag\")]  # Tag pertanyaan\n",
    "\n",
    "        # Process answers\n",
    "        answers = []\n",
    "        answer_areas = soup.find_all('div', class_=\"answer js-answer\")\n",
    "\n",
    "        if answer_areas:  # Check if there are any answers js-vote-count flex--item d-flex fd-column ai-center fc-theme-body-font fw-bold fs-subheading py4\n",
    "            i = 1  # Initialize answer counter\n",
    "            for answer_area in answer_areas:\n",
    "                answer_text = clean_text(answer_area.find('div', class_=\"s-prose js-post-body\").text)\n",
    "                answer_votes = clean_text(answer_area.find('div', class_=\"js-vote-count flex--item d-flex fd-column ai-center fc-theme-body-font fw-bold fs-subheading py4\").text)\n",
    "                answers.append(f\"[[ANSWER_{i}], [VOTES={answer_votes}]] : \" + answer_text)\n",
    "                i += 1\n",
    "\n",
    "\n",
    "        # Simpan data ke dalam dictionary\n",
    "        question_info = {\n",
    "            'Number': j,\n",
    "            'Title': title,\n",
    "            'Question_Text': question_text,\n",
    "            'Answers': answers,\n",
    "            'Votes': votes,\n",
    "            'Tags': ', '.join(tags),  # Gabungkan tag menjadi satu string\n",
    "            'Link': link\n",
    "        }\n",
    "        questions_data.append(question_info)\n",
    "\n",
    "# Simpan hasil scraping ke CSV  \n",
    "output_file = 'HasilScrappingWithCSV_Request.csv'\n",
    "df_questions = pd.DataFrame(questions_data)\n",
    "df_questions.to_csv(output_file, index=False)\n"
   ]
  }
 ],
 "metadata": {
  "kernelspec": {
   "display_name": "venv",
   "language": "python",
   "name": "python3"
  },
  "language_info": {
   "codemirror_mode": {
    "name": "ipython",
    "version": 3
   },
   "file_extension": ".py",
   "mimetype": "text/x-python",
   "name": "python",
   "nbconvert_exporter": "python",
   "pygments_lexer": "ipython3",
   "version": "3.10.12"
  }
 },
 "nbformat": 4,
 "nbformat_minor": 2
}
