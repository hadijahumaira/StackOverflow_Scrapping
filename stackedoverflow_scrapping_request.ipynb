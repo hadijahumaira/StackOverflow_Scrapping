{
 "cells": [
  {
   "cell_type": "code",
   "execution_count": 7,
   "metadata": {},
   "outputs": [],
   "source": [
    "import requests\n",
    "from bs4 import BeautifulSoup\n",
    "import pandas as pd\n",
    "import time\n",
    "\n",
    "def clean_text(text):\n",
    "    return ' '.join(text.split())  # Hapus newline dan gabungkan teks menjadi satu baris\n",
    "\n",
    "num_pages = 1 \n",
    "\n",
    "# List untuk menyimpan data detail pertanyaan\n",
    "questions_data = []\n",
    "\n",
    "for page_num in range(1, num_pages + 1):\n",
    "\n",
    "    url = f\"https://stackoverflow.com/questions/tagged/python?tab=newest&page={page_num}&pagesize=50\"\n",
    "    # Permintaan HTTP ke halaman\n",
    "    response = requests.get(url)\n",
    "    \n",
    "# Periksa apakah respons berhasil\n",
    "    if response.status_code == 200:\n",
    "        # Parse konten HTML dengan BeautifulSoup\n",
    "        soup = BeautifulSoup(response.text, 'html.parser')\n",
    "\n",
    "        # Loop melalui setiap blok pertanyaan\n",
    "        for area in soup.find_all('div', class_=\"s-post-summary js-post-summary\"):\n",
    "            title = area.find('a', class_=\"s-link\").get_text(strip=True)\n",
    "            question_excerpt = clean_text(area.find('div', class_=\"s-post-summary--content-excerpt\").get_text(strip=True))\n",
    "            votes = area.select_one('.s-post-summary--stats-item__emphasized .s-post-summary--stats-item-number').get_text(strip=True)\n",
    "            answers = area.select_one('.s-post-summary--stats-item:nth-child(2) .s-post-summary--stats-item-number').get_text(strip=True)\n",
    "            views = area.select_one('.s-post-summary--stats-item:nth-child(3) .s-post-summary--stats-item-number').get_text(strip=True)\n",
    "            tags = [tag.get_text(strip=True) for tag in area.select('.s-post-summary--meta-tags .post-tag')]\n",
    "            author = area.select_one('.s-user-card--info .flex--item').get_text(strip=True) if area.select_one('.s-user-card--info .flex--item') else 'Anonymous'\n",
    "            reputation = area.select_one('.s-user-card--rep').get_text(strip=True) if area.select_one('.s-user-card--rep') else '0'\n",
    "            link = \"https://stackoverflow.com\" + area.find('a', class_=\"s-link\")['href']\n",
    "\n",
    "            # Simpan data ke dalam dictionary\n",
    "            question_info = {\n",
    "                'Title': title,\n",
    "                'Excerpt': question_excerpt,\n",
    "                'Votes': votes,\n",
    "                'Answers': answers,\n",
    "                'Views': views,\n",
    "                'Tags': ', '.join(tags),\n",
    "                'Author': author,\n",
    "                'Reputation': reputation,\n",
    "                'Link': link\n",
    "            }\n",
    "\n",
    "            questions_data.append(question_info)\n",
    "\n",
    "# Simpan hasil scraping ke CSV  \n",
    "output_file = 'HasilScrapping_Request.csv'\n",
    "df_questions = pd.DataFrame(questions_data)\n",
    "df_questions.to_csv(output_file, index=False)"
   ]
  },
  {
   "cell_type": "code",
   "execution_count": null,
   "metadata": {},
   "outputs": [],
   "source": []
  }
 ],
 "metadata": {
  "kernelspec": {
   "display_name": "myenv",
   "language": "python",
   "name": "python3"
  },
  "language_info": {
   "codemirror_mode": {
    "name": "ipython",
    "version": 3
   },
   "file_extension": ".py",
   "mimetype": "text/x-python",
   "name": "python",
   "nbconvert_exporter": "python",
   "pygments_lexer": "ipython3",
   "version": "3.11.9"
  }
 },
 "nbformat": 4,
 "nbformat_minor": 2
}
